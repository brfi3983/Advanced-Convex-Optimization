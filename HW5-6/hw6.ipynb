{
 "metadata": {
  "language_info": {
   "codemirror_mode": {
    "name": "ipython",
    "version": 3
   },
   "file_extension": ".py",
   "mimetype": "text/x-python",
   "name": "python",
   "nbconvert_exporter": "python",
   "pygments_lexer": "ipython3",
   "version": "3.6.8-final"
  },
  "orig_nbformat": 2,
  "kernelspec": {
   "name": "python3",
   "display_name": "Python 3.6.8 64-bit",
   "metadata": {
    "interpreter": {
     "hash": "bc5325771484cd741460cbbcf20a153b1ef45b389ce85e60a186ce6bd8aea41f"
    }
   }
  }
 },
 "nbformat": 4,
 "nbformat_minor": 2,
 "cells": [
  {
   "cell_type": "code",
   "execution_count": 267,
   "metadata": {},
   "outputs": [],
   "source": [
    "import numpy as np\n",
    "import matplotlib.pyplot as plt\n",
    "plt.style.use('ggplot')"
   ]
  },
  {
   "cell_type": "code",
   "execution_count": 268,
   "metadata": {},
   "outputs": [],
   "source": [
    "# Importing datasets\n",
    "Xtrain = np.genfromtxt('Xtrain.csv', delimiter = ',')\n",
    "Xtest = np.genfromtxt('Xtest.csv', delimiter = ',')\n",
    "ytrain = np.genfromtxt('ytrain.csv', delimiter = ',')\n",
    "ytest = np.genfromtxt('ytest.csv', delimiter = ',')\n",
    "\n",
    "# Log transforming inputs due to small magnitude on the tails\n",
    "Xtrain = np.log(Xtrain + 0.1)\n",
    "Xtest = np.log(Xtest + 0.1)\n",
    "\n",
    "# Transforming training and testing labels from {1, 0} to {1, -1}\n",
    "for i in range(len(ytrain)):\n",
    "    if ytrain[i] == 0:\n",
    "        ytrain[i] = -1\n",
    "for i in range(len(ytest)):\n",
    "    if ytest[i] == 0:\n",
    "        ytest[i] = -1"
   ]
  },
  {
   "cell_type": "code",
   "execution_count": 269,
   "metadata": {},
   "outputs": [],
   "source": [
    "def L(w):\n",
    "    tot = 0\n",
    "    for i in range(Xtrain.shape[0]):\n",
    "        tot += np.log(1 + np.exp(-ytrain[i]*w.T@Xtrain[i,:]))\n",
    "    return tot\n",
    "def sig(a):\n",
    "    return 1/(1 + np.exp(-a))\n",
    "def grad_L(w):\n",
    "    mu = np.empty(Xtrain.shape[0])\n",
    "    for i in range(Xtrain.shape[0]):\n",
    "        t = sig(ytrain[i]*w.T@Xtrain[i,:])\n",
    "        mu[i] = t\n",
    "    return -Xtrain.T@(ytrain * (1 - mu))"
   ]
  },
  {
   "source": [
    "# Problem 1"
   ],
   "cell_type": "markdown",
   "metadata": {}
  },
  {
   "cell_type": "code",
   "execution_count": 270,
   "metadata": {},
   "outputs": [],
   "source": [
    "def gradientCheck(f, grad_f, x_0, flag):\n",
    "    # flag = 1: finite difference\n",
    "    # flag = 2: center difference\n",
    "    n = len(np.array(x_0).flatten())\n",
    "    h_arr = [1.5, 1.5e-1, 1.5e-2, 1.5e-3, 1.5e-4, 1.5e-5, 1.5e-6, 1.5e-7]\n",
    "    g = np.zeros((len(h_arr),n))\n",
    "    if flag == 1:\n",
    "        for i, h in enumerate(h_arr): #different h values\n",
    "            e = np.zeros(n)\n",
    "            e[0] = 1\n",
    "            for j in range(n): # number of dimensions\n",
    "                # print(j)\n",
    "                g[i][j] = (f(x_0 + h*e) - f(x_0))/h\n",
    "                e = np.roll(e, 1)\n",
    "\n",
    "        # check g vs gradient f\n",
    "        out = np.zeros(len(h_arr))\n",
    "        for i in range(len(h_arr)):\n",
    "            out[i] = abs(np.linalg.norm(grad_f(x_0)) - np.linalg.norm(g[i,:]))/np.linalg.norm(g[i,:])\n",
    "        return out\n",
    "    if flag == 2:\n",
    "        for i, h in enumerate(h_arr): #different h values\n",
    "            e = np.zeros(n)\n",
    "            e[0] = 1\n",
    "            for j in range(n): # number of dimensions\n",
    "                g[i][j] = (f(x_0 + h*e) - f(x_0 - h*e))/(2*h)\n",
    "                e = np.roll(e, 1)\n",
    "\n",
    "        # check g vs gradient f\n",
    "        out = np.zeros(len(h_arr))\n",
    "        for i in range(len(h_arr)):\n",
    "            out[i] = abs(np.linalg.norm(grad_f(x_0)) - np.linalg.norm(g[i,:]))/np.linalg.norm(g[i,:])\n",
    "        return out"
   ]
  },
  {
   "cell_type": "code",
   "execution_count": 271,
   "metadata": {},
   "outputs": [],
   "source": [
    "# Method for checking the gradient\n",
    "method = 2 # 1 is finite difference, 2 is center difference (a mix of both were tested)"
   ]
  },
  {
   "cell_type": "code",
   "execution_count": 272,
   "metadata": {},
   "outputs": [
    {
     "output_type": "stream",
     "name": "stdout",
     "text": [
      "[0.00000000e+00 5.55111512e-16 8.43769499e-15 3.79696274e-14\n 6.30162589e-13 8.25184365e-12 1.39777967e-10 1.56281432e-10]\n"
     ]
    }
   ],
   "source": [
    "def f(x):\n",
    "    return 8*x\n",
    "def grad_f(x):\n",
    "    return 8\n",
    "\n",
    "# Point to check gradient\n",
    "x_0 = 3 # means f(3) = 24, f'(3) = 8\n",
    "\n",
    "# defining functions as parameters\n",
    "func = f\n",
    "grad = grad_f\n",
    "\n",
    "# checking gradient\n",
    "out = gradientCheck(func, grad, x_0, method)\n",
    "print(out)"
   ]
  },
  {
   "cell_type": "code",
   "execution_count": 273,
   "metadata": {},
   "outputs": [
    {
     "output_type": "stream",
     "name": "stdout",
     "text": [
      "[2.00000000e-01 2.43902439e-02 2.49376559e-03 2.49937516e-04\n 2.49993748e-05 2.49998077e-06 2.50112597e-07 2.55022056e-08]\n"
     ]
    }
   ],
   "source": [
    "def f(x):\n",
    "    return x**2\n",
    "def grad_f(x):\n",
    "    return 2*x\n",
    "\n",
    "# Point to check gradient\n",
    "x_0 = 3 # means f(3) = 9, f'(3) = 6\n",
    "\n",
    "# defining functions as parameters\n",
    "func = f\n",
    "grad = grad_f\n",
    "\n",
    "# checking gradient\n",
    "out = gradientCheck(func, grad, x_0, 1)\n",
    "print(out)"
   ]
  },
  {
   "cell_type": "code",
   "execution_count": 274,
   "metadata": {},
   "outputs": [
    {
     "output_type": "stream",
     "name": "stdout",
     "text": [
      "[2.58843831e-03 2.59508836e-05 2.59515530e-07 2.59512786e-09\n 3.65840834e-11 5.40674669e-11 5.40674669e-11 1.26422294e-08]\n"
     ]
    }
   ],
   "source": [
    "def f(x):\n",
    "    return x**3\n",
    "def grad_f(x):\n",
    "    return 3*x**2\n",
    "\n",
    "# Point to check gradient\n",
    "x_0 = -17 # means f(3) = -4913, f'(3) = 867\n",
    "\n",
    "# defining functions as parameters\n",
    "func = f\n",
    "grad = grad_f\n",
    "\n",
    "# checking gradient\n",
    "out = gradientCheck(func, grad, x_0, method)\n",
    "print(out)"
   ]
  },
  {
   "cell_type": "code",
   "execution_count": 275,
   "metadata": {},
   "outputs": [
    {
     "output_type": "stream",
     "name": "stdout",
     "text": [
      "[1.53502504e-03 1.53853123e-05 1.53856637e-07 1.53851134e-09\n 1.68644546e-11 7.50189782e-11 2.11688854e-10 8.00640855e-09]\n"
     ]
    }
   ],
   "source": [
    "def f(x):\n",
    "    return x[0]**2 + x[1]**2 + x[2]**2 + x[3]**2 + x[4]**2\n",
    "def grad_f(x):\n",
    "    return [2*x[0], 2*x[1], 2*x[2], 2*x[3], 2*x[4]]\n",
    "\n",
    "# Point to check gradient\n",
    "x_0 = [-24, 18, 1, 2, 3] # gradient should be 2 times each input\n",
    "\n",
    "# defining functions as parameters\n",
    "func = f\n",
    "grad = grad_f\n",
    "\n",
    "# checking gradient\n",
    "out = gradientCheck(func, grad, x_0, 1)\n",
    "print(out)"
   ]
  },
  {
   "cell_type": "code",
   "execution_count": 276,
   "metadata": {},
   "outputs": [
    {
     "output_type": "stream",
     "name": "stdout",
     "text": [
      "[0.0027656  0.0027656  0.0027656  0.0027656  0.0027656  0.0027656\n 0.0027656  0.00276559]\nThis shows that you can detect incorrect gradients due to the massive increase in error for small scaling.\n"
     ]
    }
   ],
   "source": [
    "def f(x):\n",
    "    return x[0]**2 + x[1]**2 + x[2]**2 + x[3]**2 + x[4]**2\n",
    "def grad_f(x):\n",
    "    return [2*x[0], 2*x[1], 2*x[2], 2*x[3], 2.5*x[4]]\n",
    "\n",
    "# Point to check gradient\n",
    "x_0 = [-24, 18, 1, 2, 3] # gradient should be 2 times each input\n",
    "\n",
    "# defining functions as parameters\n",
    "func = f\n",
    "grad = grad_f\n",
    "\n",
    "# checking gradient\n",
    "out = gradientCheck(func, grad, x_0, 2)\n",
    "print(out)\n",
    "print('This shows that you can detect incorrect gradients due to the massive increase in error for small scaling.')"
   ]
  },
  {
   "cell_type": "code",
   "execution_count": 277,
   "metadata": {
    "tags": []
   },
   "outputs": [
    {
     "output_type": "stream",
     "name": "stdout",
     "text": [
      "[6.92821855e-14 1.11453951e-13 1.34234234e-12 6.09833846e-12\n 8.85900763e-11 2.08423180e-09 1.94989760e-08 5.12651556e-08]\n"
     ]
    }
   ],
   "source": [
    "# random starting point\n",
    "w = np.random.rand(Xtrain.shape[1])\n",
    "\n",
    "# defining functions as parameters\n",
    "func = L\n",
    "grad = grad_L\n",
    "\n",
    "# checking gradient\n",
    "out = gradientCheck(func, grad, w, 1)\n",
    "print(out)"
   ]
  },
  {
   "cell_type": "code",
   "execution_count": 278,
   "metadata": {
    "tags": []
   },
   "outputs": [
    {
     "output_type": "stream",
     "name": "stdout",
     "text": [
      "[2.02198552e-13 5.66683093e-14 2.27802838e-14 5.04310300e-12\n 3.49270700e-11 9.40490043e-10 5.76769623e-09 4.72632030e-08]\n"
     ]
    }
   ],
   "source": [
    "# random starting point\n",
    "w = np.random.rand(Xtrain.shape[1])\n",
    "\n",
    "# defining functions as parameters\n",
    "func = L\n",
    "grad = grad_L\n",
    "\n",
    "# checking gradient\n",
    "out = gradientCheck(func, grad, w, 2)\n",
    "print(out)"
   ]
  },
  {
   "source": [
    "# Problem 3"
   ],
   "cell_type": "markdown",
   "metadata": {}
  },
  {
   "cell_type": "code",
   "execution_count": 279,
   "metadata": {
    "tags": []
   },
   "outputs": [],
   "source": [
    "def gradientDescentSolver(x_0, f, grad_f, lam, steps, flag, rho, c, linesearch_flag):\n",
    "\n",
    "    # Linesearch\n",
    "    if linesearch_flag == 0:\n",
    "\n",
    "        # Defining arrays and constants\n",
    "        tol = 1e-4\n",
    "        error = 10 # arbitrary to start\n",
    "        x_n = np.array(x_0)\n",
    "        error_arr = []\n",
    "        i = 0\n",
    "\n",
    "        # Gradient descent loop\n",
    "        while error > tol:\n",
    "            i += 1\n",
    "            x_prev = x_n\n",
    "\n",
    "            # updating weight (position)\n",
    "            x_n = x_n - lam*grad_f(x_n)\n",
    "\n",
    "            # early stopping\n",
    "            if (i == steps) & (flag == 1):\n",
    "                return x_n, error_arr, i\n",
    "\n",
    "            # L-2 norm for error between points\n",
    "            error = np.linalg.norm(x_n - x_prev)\n",
    "            if i % 1000 == 0:\n",
    "                print(f'Step: {i} | Error: {error}')\n",
    "            error_arr.append(error)\n",
    "        return x_n, error_arr, i\n",
    "\n",
    "    # Gradient Descent\n",
    "    else:\n",
    "        t = 0.5 #optimal?\n",
    "        p_k = -grad_f(x_0)\n",
    "        while f(x_0 + t*p_k) > f(x_0) + c*t*grad_f(x_0)@p_k: #armijo condition\n",
    "            t = rho*t\n",
    "        return t"
   ]
  },
  {
   "cell_type": "code",
   "execution_count": 280,
   "metadata": {},
   "outputs": [
    {
     "output_type": "stream",
     "name": "stdout",
     "text": [
      "Rank of matrix A: 5 | Full column rank? True\n"
     ]
    }
   ],
   "source": [
    "# Generating a random A and b matrix with full column rank to test gradient descent\n",
    "A = np.random.rand(1000, 5)\n",
    "b = np.random.rand(1000)\n",
    "rank = np.linalg.matrix_rank(A)\n",
    "print(f'Rank of matrix A: {rank} | Full column rank? {A.shape[1] == rank}')"
   ]
  },
  {
   "cell_type": "code",
   "execution_count": 281,
   "metadata": {
    "tags": []
   },
   "outputs": [
    {
     "output_type": "stream",
     "name": "stdout",
     "text": [
      "Gradient Check Error: [3.58823078e-16 2.39215385e-16 3.22940770e-15 3.34901539e-15\n 1.23195923e-13 3.55402298e-12 9.06829643e-12 1.38693492e-10]\nThis means that L is approximately 1374.0\nTotal Error: 0.0015749566889535055\n"
     ]
    }
   ],
   "source": [
    "def f(x):\n",
    "    return 0.5*np.linalg.norm(A@x - b)**2\n",
    "def grad_f(x):\n",
    "    return A.T@(A@x - b)\n",
    "\n",
    "# Closed form solution to problem\n",
    "x_optimal = np.linalg.inv(A.T@A)@A.T@b\n",
    "\n",
    "# Defining functions as parameters\n",
    "grad = grad_f\n",
    "func = f\n",
    "\n",
    "# Intializing random starting points\n",
    "x_0 = np.random.rand(A.shape[1])\n",
    "w = np.random.rand(A.shape[1])\n",
    "\n",
    "# Checking to see if the gradient calculated is correct\n",
    "out = gradientCheck(func, grad, w, 2)\n",
    "print(f'Gradient Check Error: {out}')\n",
    "\n",
    "# Defining learning rate with spectral norm, rho, and c for linesearch option\n",
    "L = np.linalg.norm(A,2)**2\n",
    "lam = 1/L\n",
    "rho = 0.9\n",
    "c = 0.5\n",
    "steps = 100\n",
    "step_flag = 0\n",
    "\n",
    "# Testing linesearch option\n",
    "linesearch_flag = 1\n",
    "t = gradientDescentSolver(x_0, func, grad, lam, steps, step_flag, rho, c, linesearch_flag)\n",
    "print(f'This means that L is approximately {1/t:0.1f}')\n",
    "\n",
    "# Testing gradient descent solver\n",
    "x_opt_grad, err, i = gradientDescentSolver(x_0, func, grad, lam, steps, step_flag, rho, c, 0)\n",
    "total_error = np.linalg.norm(x_opt_grad - x_optimal)\n",
    "print(f'Total Error: {total_error}')"
   ]
  },
  {
   "cell_type": "code",
   "execution_count": 282,
   "metadata": {},
   "outputs": [
    {
     "output_type": "execute_result",
     "data": {
      "text/plain": [
       "Text(0, 0.5, 'Error')"
      ]
     },
     "metadata": {},
     "execution_count": 282
    },
    {
     "output_type": "display_data",
     "data": {
      "text/plain": "<Figure size 432x288 with 1 Axes>",
      "image/svg+xml": "<?xml version=\"1.0\" encoding=\"utf-8\" standalone=\"no\"?>\r\n<!DOCTYPE svg PUBLIC \"-//W3C//DTD SVG 1.1//EN\"\r\n  \"http://www.w3.org/Graphics/SVG/1.1/DTD/svg11.dtd\">\r\n<!-- Created with matplotlib (https://matplotlib.org/) -->\r\n<svg height=\"281.073625pt\" version=\"1.1\" viewBox=\"0 0 391.455752 281.073625\" width=\"391.455752pt\" xmlns=\"http://www.w3.org/2000/svg\" xmlns:xlink=\"http://www.w3.org/1999/xlink\">\r\n <defs>\r\n  <style type=\"text/css\">\r\n*{stroke-linecap:butt;stroke-linejoin:round;white-space:pre;}\r\n  </style>\r\n </defs>\r\n <g id=\"figure_1\">\r\n  <g id=\"patch_1\">\r\n   <path d=\"M 0 281.073625 \r\nL 391.455752 281.073625 \r\nL 391.455752 0 \r\nL 0 0 \r\nz\r\n\" style=\"fill:#ffffff;\"/>\r\n  </g>\r\n  <g id=\"axes_1\">\r\n   <g id=\"patch_2\">\r\n    <path d=\"M 45.716875 241.58175 \r\nL 380.516875 241.58175 \r\nL 380.516875 24.14175 \r\nL 45.716875 24.14175 \r\nz\r\n\" style=\"fill:#e5e5e5;\"/>\r\n   </g>\r\n   <g id=\"matplotlib.axis_1\">\r\n    <g id=\"xtick_1\">\r\n     <g id=\"line2d_1\">\r\n      <path clip-path=\"url(#p0e6c443105)\" d=\"M 60.935057 241.58175 \r\nL 60.935057 24.14175 \r\n\" style=\"fill:none;stroke:#ffffff;stroke-linecap:square;stroke-width:0.8;\"/>\r\n     </g>\r\n     <g id=\"line2d_2\">\r\n      <defs>\r\n       <path d=\"M 0 0 \r\nL 0 3.5 \r\n\" id=\"mf78d6b43f8\" style=\"stroke:#555555;stroke-width:0.8;\"/>\r\n      </defs>\r\n      <g>\r\n       <use style=\"fill:#555555;stroke:#555555;stroke-width:0.8;\" x=\"60.935057\" xlink:href=\"#mf78d6b43f8\" y=\"241.58175\"/>\r\n      </g>\r\n     </g>\r\n     <g id=\"text_1\">\r\n      <!-- 0 -->\r\n      <defs>\r\n       <path d=\"M 31.78125 66.40625 \r\nQ 24.171875 66.40625 20.328125 58.90625 \r\nQ 16.5 51.421875 16.5 36.375 \r\nQ 16.5 21.390625 20.328125 13.890625 \r\nQ 24.171875 6.390625 31.78125 6.390625 \r\nQ 39.453125 6.390625 43.28125 13.890625 \r\nQ 47.125 21.390625 47.125 36.375 \r\nQ 47.125 51.421875 43.28125 58.90625 \r\nQ 39.453125 66.40625 31.78125 66.40625 \r\nz\r\nM 31.78125 74.21875 \r\nQ 44.046875 74.21875 50.515625 64.515625 \r\nQ 56.984375 54.828125 56.984375 36.375 \r\nQ 56.984375 17.96875 50.515625 8.265625 \r\nQ 44.046875 -1.421875 31.78125 -1.421875 \r\nQ 19.53125 -1.421875 13.0625 8.265625 \r\nQ 6.59375 17.96875 6.59375 36.375 \r\nQ 6.59375 54.828125 13.0625 64.515625 \r\nQ 19.53125 74.21875 31.78125 74.21875 \r\nz\r\n\" id=\"DejaVuSans-48\"/>\r\n      </defs>\r\n      <g style=\"fill:#555555;\" transform=\"translate(57.753807 256.180187)scale(0.1 -0.1)\">\r\n       <use xlink:href=\"#DejaVuSans-48\"/>\r\n      </g>\r\n     </g>\r\n    </g>\r\n    <g id=\"xtick_2\">\r\n     <g id=\"line2d_3\">\r\n      <path clip-path=\"url(#p0e6c443105)\" d=\"M 123.690446 241.58175 \r\nL 123.690446 24.14175 \r\n\" style=\"fill:none;stroke:#ffffff;stroke-linecap:square;stroke-width:0.8;\"/>\r\n     </g>\r\n     <g id=\"line2d_4\">\r\n      <g>\r\n       <use style=\"fill:#555555;stroke:#555555;stroke-width:0.8;\" x=\"123.690446\" xlink:href=\"#mf78d6b43f8\" y=\"241.58175\"/>\r\n      </g>\r\n     </g>\r\n     <g id=\"text_2\">\r\n      <!-- 20 -->\r\n      <defs>\r\n       <path d=\"M 19.1875 8.296875 \r\nL 53.609375 8.296875 \r\nL 53.609375 0 \r\nL 7.328125 0 \r\nL 7.328125 8.296875 \r\nQ 12.9375 14.109375 22.625 23.890625 \r\nQ 32.328125 33.6875 34.8125 36.53125 \r\nQ 39.546875 41.84375 41.421875 45.53125 \r\nQ 43.3125 49.21875 43.3125 52.78125 \r\nQ 43.3125 58.59375 39.234375 62.25 \r\nQ 35.15625 65.921875 28.609375 65.921875 \r\nQ 23.96875 65.921875 18.8125 64.3125 \r\nQ 13.671875 62.703125 7.8125 59.421875 \r\nL 7.8125 69.390625 \r\nQ 13.765625 71.78125 18.9375 73 \r\nQ 24.125 74.21875 28.421875 74.21875 \r\nQ 39.75 74.21875 46.484375 68.546875 \r\nQ 53.21875 62.890625 53.21875 53.421875 \r\nQ 53.21875 48.921875 51.53125 44.890625 \r\nQ 49.859375 40.875 45.40625 35.40625 \r\nQ 44.1875 33.984375 37.640625 27.21875 \r\nQ 31.109375 20.453125 19.1875 8.296875 \r\nz\r\n\" id=\"DejaVuSans-50\"/>\r\n      </defs>\r\n      <g style=\"fill:#555555;\" transform=\"translate(117.327946 256.180187)scale(0.1 -0.1)\">\r\n       <use xlink:href=\"#DejaVuSans-50\"/>\r\n       <use x=\"63.623047\" xlink:href=\"#DejaVuSans-48\"/>\r\n      </g>\r\n     </g>\r\n    </g>\r\n    <g id=\"xtick_3\">\r\n     <g id=\"line2d_5\">\r\n      <path clip-path=\"url(#p0e6c443105)\" d=\"M 186.445835 241.58175 \r\nL 186.445835 24.14175 \r\n\" style=\"fill:none;stroke:#ffffff;stroke-linecap:square;stroke-width:0.8;\"/>\r\n     </g>\r\n     <g id=\"line2d_6\">\r\n      <g>\r\n       <use style=\"fill:#555555;stroke:#555555;stroke-width:0.8;\" x=\"186.445835\" xlink:href=\"#mf78d6b43f8\" y=\"241.58175\"/>\r\n      </g>\r\n     </g>\r\n     <g id=\"text_3\">\r\n      <!-- 40 -->\r\n      <defs>\r\n       <path d=\"M 37.796875 64.3125 \r\nL 12.890625 25.390625 \r\nL 37.796875 25.390625 \r\nz\r\nM 35.203125 72.90625 \r\nL 47.609375 72.90625 \r\nL 47.609375 25.390625 \r\nL 58.015625 25.390625 \r\nL 58.015625 17.1875 \r\nL 47.609375 17.1875 \r\nL 47.609375 0 \r\nL 37.796875 0 \r\nL 37.796875 17.1875 \r\nL 4.890625 17.1875 \r\nL 4.890625 26.703125 \r\nz\r\n\" id=\"DejaVuSans-52\"/>\r\n      </defs>\r\n      <g style=\"fill:#555555;\" transform=\"translate(180.083335 256.180187)scale(0.1 -0.1)\">\r\n       <use xlink:href=\"#DejaVuSans-52\"/>\r\n       <use x=\"63.623047\" xlink:href=\"#DejaVuSans-48\"/>\r\n      </g>\r\n     </g>\r\n    </g>\r\n    <g id=\"xtick_4\">\r\n     <g id=\"line2d_7\">\r\n      <path clip-path=\"url(#p0e6c443105)\" d=\"M 249.201224 241.58175 \r\nL 249.201224 24.14175 \r\n\" style=\"fill:none;stroke:#ffffff;stroke-linecap:square;stroke-width:0.8;\"/>\r\n     </g>\r\n     <g id=\"line2d_8\">\r\n      <g>\r\n       <use style=\"fill:#555555;stroke:#555555;stroke-width:0.8;\" x=\"249.201224\" xlink:href=\"#mf78d6b43f8\" y=\"241.58175\"/>\r\n      </g>\r\n     </g>\r\n     <g id=\"text_4\">\r\n      <!-- 60 -->\r\n      <defs>\r\n       <path d=\"M 33.015625 40.375 \r\nQ 26.375 40.375 22.484375 35.828125 \r\nQ 18.609375 31.296875 18.609375 23.390625 \r\nQ 18.609375 15.53125 22.484375 10.953125 \r\nQ 26.375 6.390625 33.015625 6.390625 \r\nQ 39.65625 6.390625 43.53125 10.953125 \r\nQ 47.40625 15.53125 47.40625 23.390625 \r\nQ 47.40625 31.296875 43.53125 35.828125 \r\nQ 39.65625 40.375 33.015625 40.375 \r\nz\r\nM 52.59375 71.296875 \r\nL 52.59375 62.3125 \r\nQ 48.875 64.0625 45.09375 64.984375 \r\nQ 41.3125 65.921875 37.59375 65.921875 \r\nQ 27.828125 65.921875 22.671875 59.328125 \r\nQ 17.53125 52.734375 16.796875 39.40625 \r\nQ 19.671875 43.65625 24.015625 45.921875 \r\nQ 28.375 48.1875 33.59375 48.1875 \r\nQ 44.578125 48.1875 50.953125 41.515625 \r\nQ 57.328125 34.859375 57.328125 23.390625 \r\nQ 57.328125 12.15625 50.6875 5.359375 \r\nQ 44.046875 -1.421875 33.015625 -1.421875 \r\nQ 20.359375 -1.421875 13.671875 8.265625 \r\nQ 6.984375 17.96875 6.984375 36.375 \r\nQ 6.984375 53.65625 15.1875 63.9375 \r\nQ 23.390625 74.21875 37.203125 74.21875 \r\nQ 40.921875 74.21875 44.703125 73.484375 \r\nQ 48.484375 72.75 52.59375 71.296875 \r\nz\r\n\" id=\"DejaVuSans-54\"/>\r\n      </defs>\r\n      <g style=\"fill:#555555;\" transform=\"translate(242.838724 256.180187)scale(0.1 -0.1)\">\r\n       <use xlink:href=\"#DejaVuSans-54\"/>\r\n       <use x=\"63.623047\" xlink:href=\"#DejaVuSans-48\"/>\r\n      </g>\r\n     </g>\r\n    </g>\r\n    <g id=\"xtick_5\">\r\n     <g id=\"line2d_9\">\r\n      <path clip-path=\"url(#p0e6c443105)\" d=\"M 311.956613 241.58175 \r\nL 311.956613 24.14175 \r\n\" style=\"fill:none;stroke:#ffffff;stroke-linecap:square;stroke-width:0.8;\"/>\r\n     </g>\r\n     <g id=\"line2d_10\">\r\n      <g>\r\n       <use style=\"fill:#555555;stroke:#555555;stroke-width:0.8;\" x=\"311.956613\" xlink:href=\"#mf78d6b43f8\" y=\"241.58175\"/>\r\n      </g>\r\n     </g>\r\n     <g id=\"text_5\">\r\n      <!-- 80 -->\r\n      <defs>\r\n       <path d=\"M 31.78125 34.625 \r\nQ 24.75 34.625 20.71875 30.859375 \r\nQ 16.703125 27.09375 16.703125 20.515625 \r\nQ 16.703125 13.921875 20.71875 10.15625 \r\nQ 24.75 6.390625 31.78125 6.390625 \r\nQ 38.8125 6.390625 42.859375 10.171875 \r\nQ 46.921875 13.96875 46.921875 20.515625 \r\nQ 46.921875 27.09375 42.890625 30.859375 \r\nQ 38.875 34.625 31.78125 34.625 \r\nz\r\nM 21.921875 38.8125 \r\nQ 15.578125 40.375 12.03125 44.71875 \r\nQ 8.5 49.078125 8.5 55.328125 \r\nQ 8.5 64.0625 14.71875 69.140625 \r\nQ 20.953125 74.21875 31.78125 74.21875 \r\nQ 42.671875 74.21875 48.875 69.140625 \r\nQ 55.078125 64.0625 55.078125 55.328125 \r\nQ 55.078125 49.078125 51.53125 44.71875 \r\nQ 48 40.375 41.703125 38.8125 \r\nQ 48.828125 37.15625 52.796875 32.3125 \r\nQ 56.78125 27.484375 56.78125 20.515625 \r\nQ 56.78125 9.90625 50.3125 4.234375 \r\nQ 43.84375 -1.421875 31.78125 -1.421875 \r\nQ 19.734375 -1.421875 13.25 4.234375 \r\nQ 6.78125 9.90625 6.78125 20.515625 \r\nQ 6.78125 27.484375 10.78125 32.3125 \r\nQ 14.796875 37.15625 21.921875 38.8125 \r\nz\r\nM 18.3125 54.390625 \r\nQ 18.3125 48.734375 21.84375 45.5625 \r\nQ 25.390625 42.390625 31.78125 42.390625 \r\nQ 38.140625 42.390625 41.71875 45.5625 \r\nQ 45.3125 48.734375 45.3125 54.390625 \r\nQ 45.3125 60.0625 41.71875 63.234375 \r\nQ 38.140625 66.40625 31.78125 66.40625 \r\nQ 25.390625 66.40625 21.84375 63.234375 \r\nQ 18.3125 60.0625 18.3125 54.390625 \r\nz\r\n\" id=\"DejaVuSans-56\"/>\r\n      </defs>\r\n      <g style=\"fill:#555555;\" transform=\"translate(305.594113 256.180187)scale(0.1 -0.1)\">\r\n       <use xlink:href=\"#DejaVuSans-56\"/>\r\n       <use x=\"63.623047\" xlink:href=\"#DejaVuSans-48\"/>\r\n      </g>\r\n     </g>\r\n    </g>\r\n    <g id=\"xtick_6\">\r\n     <g id=\"line2d_11\">\r\n      <path clip-path=\"url(#p0e6c443105)\" d=\"M 374.712002 241.58175 \r\nL 374.712002 24.14175 \r\n\" style=\"fill:none;stroke:#ffffff;stroke-linecap:square;stroke-width:0.8;\"/>\r\n     </g>\r\n     <g id=\"line2d_12\">\r\n      <g>\r\n       <use style=\"fill:#555555;stroke:#555555;stroke-width:0.8;\" x=\"374.712002\" xlink:href=\"#mf78d6b43f8\" y=\"241.58175\"/>\r\n      </g>\r\n     </g>\r\n     <g id=\"text_6\">\r\n      <!-- 100 -->\r\n      <defs>\r\n       <path d=\"M 12.40625 8.296875 \r\nL 28.515625 8.296875 \r\nL 28.515625 63.921875 \r\nL 10.984375 60.40625 \r\nL 10.984375 69.390625 \r\nL 28.421875 72.90625 \r\nL 38.28125 72.90625 \r\nL 38.28125 8.296875 \r\nL 54.390625 8.296875 \r\nL 54.390625 0 \r\nL 12.40625 0 \r\nz\r\n\" id=\"DejaVuSans-49\"/>\r\n      </defs>\r\n      <g style=\"fill:#555555;\" transform=\"translate(365.168252 256.180187)scale(0.1 -0.1)\">\r\n       <use xlink:href=\"#DejaVuSans-49\"/>\r\n       <use x=\"63.623047\" xlink:href=\"#DejaVuSans-48\"/>\r\n       <use x=\"127.246094\" xlink:href=\"#DejaVuSans-48\"/>\r\n      </g>\r\n     </g>\r\n    </g>\r\n    <g id=\"text_7\">\r\n     <!-- Iterations -->\r\n     <defs>\r\n      <path d=\"M 9.8125 72.90625 \r\nL 19.671875 72.90625 \r\nL 19.671875 0 \r\nL 9.8125 0 \r\nz\r\n\" id=\"DejaVuSans-73\"/>\r\n      <path d=\"M 18.3125 70.21875 \r\nL 18.3125 54.6875 \r\nL 36.8125 54.6875 \r\nL 36.8125 47.703125 \r\nL 18.3125 47.703125 \r\nL 18.3125 18.015625 \r\nQ 18.3125 11.328125 20.140625 9.421875 \r\nQ 21.96875 7.515625 27.59375 7.515625 \r\nL 36.8125 7.515625 \r\nL 36.8125 0 \r\nL 27.59375 0 \r\nQ 17.1875 0 13.234375 3.875 \r\nQ 9.28125 7.765625 9.28125 18.015625 \r\nL 9.28125 47.703125 \r\nL 2.6875 47.703125 \r\nL 2.6875 54.6875 \r\nL 9.28125 54.6875 \r\nL 9.28125 70.21875 \r\nz\r\n\" id=\"DejaVuSans-116\"/>\r\n      <path d=\"M 56.203125 29.59375 \r\nL 56.203125 25.203125 \r\nL 14.890625 25.203125 \r\nQ 15.484375 15.921875 20.484375 11.0625 \r\nQ 25.484375 6.203125 34.421875 6.203125 \r\nQ 39.59375 6.203125 44.453125 7.46875 \r\nQ 49.3125 8.734375 54.109375 11.28125 \r\nL 54.109375 2.78125 \r\nQ 49.265625 0.734375 44.1875 -0.34375 \r\nQ 39.109375 -1.421875 33.890625 -1.421875 \r\nQ 20.796875 -1.421875 13.15625 6.1875 \r\nQ 5.515625 13.8125 5.515625 26.8125 \r\nQ 5.515625 40.234375 12.765625 48.109375 \r\nQ 20.015625 56 32.328125 56 \r\nQ 43.359375 56 49.78125 48.890625 \r\nQ 56.203125 41.796875 56.203125 29.59375 \r\nz\r\nM 47.21875 32.234375 \r\nQ 47.125 39.59375 43.09375 43.984375 \r\nQ 39.0625 48.390625 32.421875 48.390625 \r\nQ 24.90625 48.390625 20.390625 44.140625 \r\nQ 15.875 39.890625 15.1875 32.171875 \r\nz\r\n\" id=\"DejaVuSans-101\"/>\r\n      <path d=\"M 41.109375 46.296875 \r\nQ 39.59375 47.171875 37.8125 47.578125 \r\nQ 36.03125 48 33.890625 48 \r\nQ 26.265625 48 22.1875 43.046875 \r\nQ 18.109375 38.09375 18.109375 28.8125 \r\nL 18.109375 0 \r\nL 9.078125 0 \r\nL 9.078125 54.6875 \r\nL 18.109375 54.6875 \r\nL 18.109375 46.1875 \r\nQ 20.953125 51.171875 25.484375 53.578125 \r\nQ 30.03125 56 36.53125 56 \r\nQ 37.453125 56 38.578125 55.875 \r\nQ 39.703125 55.765625 41.0625 55.515625 \r\nz\r\n\" id=\"DejaVuSans-114\"/>\r\n      <path d=\"M 34.28125 27.484375 \r\nQ 23.390625 27.484375 19.1875 25 \r\nQ 14.984375 22.515625 14.984375 16.5 \r\nQ 14.984375 11.71875 18.140625 8.90625 \r\nQ 21.296875 6.109375 26.703125 6.109375 \r\nQ 34.1875 6.109375 38.703125 11.40625 \r\nQ 43.21875 16.703125 43.21875 25.484375 \r\nL 43.21875 27.484375 \r\nz\r\nM 52.203125 31.203125 \r\nL 52.203125 0 \r\nL 43.21875 0 \r\nL 43.21875 8.296875 \r\nQ 40.140625 3.328125 35.546875 0.953125 \r\nQ 30.953125 -1.421875 24.3125 -1.421875 \r\nQ 15.921875 -1.421875 10.953125 3.296875 \r\nQ 6 8.015625 6 15.921875 \r\nQ 6 25.140625 12.171875 29.828125 \r\nQ 18.359375 34.515625 30.609375 34.515625 \r\nL 43.21875 34.515625 \r\nL 43.21875 35.40625 \r\nQ 43.21875 41.609375 39.140625 45 \r\nQ 35.0625 48.390625 27.6875 48.390625 \r\nQ 23 48.390625 18.546875 47.265625 \r\nQ 14.109375 46.140625 10.015625 43.890625 \r\nL 10.015625 52.203125 \r\nQ 14.9375 54.109375 19.578125 55.046875 \r\nQ 24.21875 56 28.609375 56 \r\nQ 40.484375 56 46.34375 49.84375 \r\nQ 52.203125 43.703125 52.203125 31.203125 \r\nz\r\n\" id=\"DejaVuSans-97\"/>\r\n      <path d=\"M 9.421875 54.6875 \r\nL 18.40625 54.6875 \r\nL 18.40625 0 \r\nL 9.421875 0 \r\nz\r\nM 9.421875 75.984375 \r\nL 18.40625 75.984375 \r\nL 18.40625 64.59375 \r\nL 9.421875 64.59375 \r\nz\r\n\" id=\"DejaVuSans-105\"/>\r\n      <path d=\"M 30.609375 48.390625 \r\nQ 23.390625 48.390625 19.1875 42.75 \r\nQ 14.984375 37.109375 14.984375 27.296875 \r\nQ 14.984375 17.484375 19.15625 11.84375 \r\nQ 23.34375 6.203125 30.609375 6.203125 \r\nQ 37.796875 6.203125 41.984375 11.859375 \r\nQ 46.1875 17.53125 46.1875 27.296875 \r\nQ 46.1875 37.015625 41.984375 42.703125 \r\nQ 37.796875 48.390625 30.609375 48.390625 \r\nz\r\nM 30.609375 56 \r\nQ 42.328125 56 49.015625 48.375 \r\nQ 55.71875 40.765625 55.71875 27.296875 \r\nQ 55.71875 13.875 49.015625 6.21875 \r\nQ 42.328125 -1.421875 30.609375 -1.421875 \r\nQ 18.84375 -1.421875 12.171875 6.21875 \r\nQ 5.515625 13.875 5.515625 27.296875 \r\nQ 5.515625 40.765625 12.171875 48.375 \r\nQ 18.84375 56 30.609375 56 \r\nz\r\n\" id=\"DejaVuSans-111\"/>\r\n      <path d=\"M 54.890625 33.015625 \r\nL 54.890625 0 \r\nL 45.90625 0 \r\nL 45.90625 32.71875 \r\nQ 45.90625 40.484375 42.875 44.328125 \r\nQ 39.84375 48.1875 33.796875 48.1875 \r\nQ 26.515625 48.1875 22.3125 43.546875 \r\nQ 18.109375 38.921875 18.109375 30.90625 \r\nL 18.109375 0 \r\nL 9.078125 0 \r\nL 9.078125 54.6875 \r\nL 18.109375 54.6875 \r\nL 18.109375 46.1875 \r\nQ 21.34375 51.125 25.703125 53.5625 \r\nQ 30.078125 56 35.796875 56 \r\nQ 45.21875 56 50.046875 50.171875 \r\nQ 54.890625 44.34375 54.890625 33.015625 \r\nz\r\n\" id=\"DejaVuSans-110\"/>\r\n      <path d=\"M 44.28125 53.078125 \r\nL 44.28125 44.578125 \r\nQ 40.484375 46.53125 36.375 47.5 \r\nQ 32.28125 48.484375 27.875 48.484375 \r\nQ 21.1875 48.484375 17.84375 46.4375 \r\nQ 14.5 44.390625 14.5 40.28125 \r\nQ 14.5 37.15625 16.890625 35.375 \r\nQ 19.28125 33.59375 26.515625 31.984375 \r\nL 29.59375 31.296875 \r\nQ 39.15625 29.25 43.1875 25.515625 \r\nQ 47.21875 21.78125 47.21875 15.09375 \r\nQ 47.21875 7.46875 41.1875 3.015625 \r\nQ 35.15625 -1.421875 24.609375 -1.421875 \r\nQ 20.21875 -1.421875 15.453125 -0.5625 \r\nQ 10.6875 0.296875 5.421875 2 \r\nL 5.421875 11.28125 \r\nQ 10.40625 8.6875 15.234375 7.390625 \r\nQ 20.0625 6.109375 24.8125 6.109375 \r\nQ 31.15625 6.109375 34.5625 8.28125 \r\nQ 37.984375 10.453125 37.984375 14.40625 \r\nQ 37.984375 18.0625 35.515625 20.015625 \r\nQ 33.0625 21.96875 24.703125 23.78125 \r\nL 21.578125 24.515625 \r\nQ 13.234375 26.265625 9.515625 29.90625 \r\nQ 5.8125 33.546875 5.8125 39.890625 \r\nQ 5.8125 47.609375 11.28125 51.796875 \r\nQ 16.75 56 26.8125 56 \r\nQ 31.78125 56 36.171875 55.265625 \r\nQ 40.578125 54.546875 44.28125 53.078125 \r\nz\r\n\" id=\"DejaVuSans-115\"/>\r\n     </defs>\r\n     <g style=\"fill:#555555;\" transform=\"translate(184.540937 271.378)scale(0.12 -0.12)\">\r\n      <use xlink:href=\"#DejaVuSans-73\"/>\r\n      <use x=\"29.492188\" xlink:href=\"#DejaVuSans-116\"/>\r\n      <use x=\"68.701172\" xlink:href=\"#DejaVuSans-101\"/>\r\n      <use x=\"130.224609\" xlink:href=\"#DejaVuSans-114\"/>\r\n      <use x=\"171.337891\" xlink:href=\"#DejaVuSans-97\"/>\r\n      <use x=\"232.617188\" xlink:href=\"#DejaVuSans-116\"/>\r\n      <use x=\"271.826172\" xlink:href=\"#DejaVuSans-105\"/>\r\n      <use x=\"299.609375\" xlink:href=\"#DejaVuSans-111\"/>\r\n      <use x=\"360.791016\" xlink:href=\"#DejaVuSans-110\"/>\r\n      <use x=\"424.169922\" xlink:href=\"#DejaVuSans-115\"/>\r\n     </g>\r\n    </g>\r\n   </g>\r\n   <g id=\"matplotlib.axis_2\">\r\n    <g id=\"ytick_1\">\r\n     <g id=\"line2d_13\">\r\n      <path clip-path=\"url(#p0e6c443105)\" d=\"M 45.716875 231.722609 \r\nL 380.516875 231.722609 \r\n\" style=\"fill:none;stroke:#ffffff;stroke-linecap:square;stroke-width:0.8;\"/>\r\n     </g>\r\n     <g id=\"line2d_14\">\r\n      <defs>\r\n       <path d=\"M 0 0 \r\nL -3.5 0 \r\n\" id=\"mf62f100e14\" style=\"stroke:#555555;stroke-width:0.8;\"/>\r\n      </defs>\r\n      <g>\r\n       <use style=\"fill:#555555;stroke:#555555;stroke-width:0.8;\" x=\"45.716875\" xlink:href=\"#mf62f100e14\" y=\"231.722609\"/>\r\n      </g>\r\n     </g>\r\n     <g id=\"text_8\">\r\n      <!-- 0.0 -->\r\n      <defs>\r\n       <path d=\"M 10.6875 12.40625 \r\nL 21 12.40625 \r\nL 21 0 \r\nL 10.6875 0 \r\nz\r\n\" id=\"DejaVuSans-46\"/>\r\n      </defs>\r\n      <g style=\"fill:#555555;\" transform=\"translate(22.81375 235.521827)scale(0.1 -0.1)\">\r\n       <use xlink:href=\"#DejaVuSans-48\"/>\r\n       <use x=\"63.623047\" xlink:href=\"#DejaVuSans-46\"/>\r\n       <use x=\"95.410156\" xlink:href=\"#DejaVuSans-48\"/>\r\n      </g>\r\n     </g>\r\n    </g>\r\n    <g id=\"ytick_2\">\r\n     <g id=\"line2d_15\">\r\n      <path clip-path=\"url(#p0e6c443105)\" d=\"M 45.716875 206.005163 \r\nL 380.516875 206.005163 \r\n\" style=\"fill:none;stroke:#ffffff;stroke-linecap:square;stroke-width:0.8;\"/>\r\n     </g>\r\n     <g id=\"line2d_16\">\r\n      <g>\r\n       <use style=\"fill:#555555;stroke:#555555;stroke-width:0.8;\" x=\"45.716875\" xlink:href=\"#mf62f100e14\" y=\"206.005163\"/>\r\n      </g>\r\n     </g>\r\n     <g id=\"text_9\">\r\n      <!-- 0.1 -->\r\n      <g style=\"fill:#555555;\" transform=\"translate(22.81375 209.804382)scale(0.1 -0.1)\">\r\n       <use xlink:href=\"#DejaVuSans-48\"/>\r\n       <use x=\"63.623047\" xlink:href=\"#DejaVuSans-46\"/>\r\n       <use x=\"95.410156\" xlink:href=\"#DejaVuSans-49\"/>\r\n      </g>\r\n     </g>\r\n    </g>\r\n    <g id=\"ytick_3\">\r\n     <g id=\"line2d_17\">\r\n      <path clip-path=\"url(#p0e6c443105)\" d=\"M 45.716875 180.287718 \r\nL 380.516875 180.287718 \r\n\" style=\"fill:none;stroke:#ffffff;stroke-linecap:square;stroke-width:0.8;\"/>\r\n     </g>\r\n     <g id=\"line2d_18\">\r\n      <g>\r\n       <use style=\"fill:#555555;stroke:#555555;stroke-width:0.8;\" x=\"45.716875\" xlink:href=\"#mf62f100e14\" y=\"180.287718\"/>\r\n      </g>\r\n     </g>\r\n     <g id=\"text_10\">\r\n      <!-- 0.2 -->\r\n      <g style=\"fill:#555555;\" transform=\"translate(22.81375 184.086937)scale(0.1 -0.1)\">\r\n       <use xlink:href=\"#DejaVuSans-48\"/>\r\n       <use x=\"63.623047\" xlink:href=\"#DejaVuSans-46\"/>\r\n       <use x=\"95.410156\" xlink:href=\"#DejaVuSans-50\"/>\r\n      </g>\r\n     </g>\r\n    </g>\r\n    <g id=\"ytick_4\">\r\n     <g id=\"line2d_19\">\r\n      <path clip-path=\"url(#p0e6c443105)\" d=\"M 45.716875 154.570272 \r\nL 380.516875 154.570272 \r\n\" style=\"fill:none;stroke:#ffffff;stroke-linecap:square;stroke-width:0.8;\"/>\r\n     </g>\r\n     <g id=\"line2d_20\">\r\n      <g>\r\n       <use style=\"fill:#555555;stroke:#555555;stroke-width:0.8;\" x=\"45.716875\" xlink:href=\"#mf62f100e14\" y=\"154.570272\"/>\r\n      </g>\r\n     </g>\r\n     <g id=\"text_11\">\r\n      <!-- 0.3 -->\r\n      <defs>\r\n       <path d=\"M 40.578125 39.3125 \r\nQ 47.65625 37.796875 51.625 33 \r\nQ 55.609375 28.21875 55.609375 21.1875 \r\nQ 55.609375 10.40625 48.1875 4.484375 \r\nQ 40.765625 -1.421875 27.09375 -1.421875 \r\nQ 22.515625 -1.421875 17.65625 -0.515625 \r\nQ 12.796875 0.390625 7.625 2.203125 \r\nL 7.625 11.71875 \r\nQ 11.71875 9.328125 16.59375 8.109375 \r\nQ 21.484375 6.890625 26.8125 6.890625 \r\nQ 36.078125 6.890625 40.9375 10.546875 \r\nQ 45.796875 14.203125 45.796875 21.1875 \r\nQ 45.796875 27.640625 41.28125 31.265625 \r\nQ 36.765625 34.90625 28.71875 34.90625 \r\nL 20.21875 34.90625 \r\nL 20.21875 43.015625 \r\nL 29.109375 43.015625 \r\nQ 36.375 43.015625 40.234375 45.921875 \r\nQ 44.09375 48.828125 44.09375 54.296875 \r\nQ 44.09375 59.90625 40.109375 62.90625 \r\nQ 36.140625 65.921875 28.71875 65.921875 \r\nQ 24.65625 65.921875 20.015625 65.03125 \r\nQ 15.375 64.15625 9.8125 62.3125 \r\nL 9.8125 71.09375 \r\nQ 15.4375 72.65625 20.34375 73.4375 \r\nQ 25.25 74.21875 29.59375 74.21875 \r\nQ 40.828125 74.21875 47.359375 69.109375 \r\nQ 53.90625 64.015625 53.90625 55.328125 \r\nQ 53.90625 49.265625 50.4375 45.09375 \r\nQ 46.96875 40.921875 40.578125 39.3125 \r\nz\r\n\" id=\"DejaVuSans-51\"/>\r\n      </defs>\r\n      <g style=\"fill:#555555;\" transform=\"translate(22.81375 158.369491)scale(0.1 -0.1)\">\r\n       <use xlink:href=\"#DejaVuSans-48\"/>\r\n       <use x=\"63.623047\" xlink:href=\"#DejaVuSans-46\"/>\r\n       <use x=\"95.410156\" xlink:href=\"#DejaVuSans-51\"/>\r\n      </g>\r\n     </g>\r\n    </g>\r\n    <g id=\"ytick_5\">\r\n     <g id=\"line2d_21\">\r\n      <path clip-path=\"url(#p0e6c443105)\" d=\"M 45.716875 128.852827 \r\nL 380.516875 128.852827 \r\n\" style=\"fill:none;stroke:#ffffff;stroke-linecap:square;stroke-width:0.8;\"/>\r\n     </g>\r\n     <g id=\"line2d_22\">\r\n      <g>\r\n       <use style=\"fill:#555555;stroke:#555555;stroke-width:0.8;\" x=\"45.716875\" xlink:href=\"#mf62f100e14\" y=\"128.852827\"/>\r\n      </g>\r\n     </g>\r\n     <g id=\"text_12\">\r\n      <!-- 0.4 -->\r\n      <g style=\"fill:#555555;\" transform=\"translate(22.81375 132.652046)scale(0.1 -0.1)\">\r\n       <use xlink:href=\"#DejaVuSans-48\"/>\r\n       <use x=\"63.623047\" xlink:href=\"#DejaVuSans-46\"/>\r\n       <use x=\"95.410156\" xlink:href=\"#DejaVuSans-52\"/>\r\n      </g>\r\n     </g>\r\n    </g>\r\n    <g id=\"ytick_6\">\r\n     <g id=\"line2d_23\">\r\n      <path clip-path=\"url(#p0e6c443105)\" d=\"M 45.716875 103.135382 \r\nL 380.516875 103.135382 \r\n\" style=\"fill:none;stroke:#ffffff;stroke-linecap:square;stroke-width:0.8;\"/>\r\n     </g>\r\n     <g id=\"line2d_24\">\r\n      <g>\r\n       <use style=\"fill:#555555;stroke:#555555;stroke-width:0.8;\" x=\"45.716875\" xlink:href=\"#mf62f100e14\" y=\"103.135382\"/>\r\n      </g>\r\n     </g>\r\n     <g id=\"text_13\">\r\n      <!-- 0.5 -->\r\n      <defs>\r\n       <path d=\"M 10.796875 72.90625 \r\nL 49.515625 72.90625 \r\nL 49.515625 64.59375 \r\nL 19.828125 64.59375 \r\nL 19.828125 46.734375 \r\nQ 21.96875 47.46875 24.109375 47.828125 \r\nQ 26.265625 48.1875 28.421875 48.1875 \r\nQ 40.625 48.1875 47.75 41.5 \r\nQ 54.890625 34.8125 54.890625 23.390625 \r\nQ 54.890625 11.625 47.5625 5.09375 \r\nQ 40.234375 -1.421875 26.90625 -1.421875 \r\nQ 22.3125 -1.421875 17.546875 -0.640625 \r\nQ 12.796875 0.140625 7.71875 1.703125 \r\nL 7.71875 11.625 \r\nQ 12.109375 9.234375 16.796875 8.0625 \r\nQ 21.484375 6.890625 26.703125 6.890625 \r\nQ 35.15625 6.890625 40.078125 11.328125 \r\nQ 45.015625 15.765625 45.015625 23.390625 \r\nQ 45.015625 31 40.078125 35.4375 \r\nQ 35.15625 39.890625 26.703125 39.890625 \r\nQ 22.75 39.890625 18.8125 39.015625 \r\nQ 14.890625 38.140625 10.796875 36.28125 \r\nz\r\n\" id=\"DejaVuSans-53\"/>\r\n      </defs>\r\n      <g style=\"fill:#555555;\" transform=\"translate(22.81375 106.9346)scale(0.1 -0.1)\">\r\n       <use xlink:href=\"#DejaVuSans-48\"/>\r\n       <use x=\"63.623047\" xlink:href=\"#DejaVuSans-46\"/>\r\n       <use x=\"95.410156\" xlink:href=\"#DejaVuSans-53\"/>\r\n      </g>\r\n     </g>\r\n    </g>\r\n    <g id=\"ytick_7\">\r\n     <g id=\"line2d_25\">\r\n      <path clip-path=\"url(#p0e6c443105)\" d=\"M 45.716875 77.417936 \r\nL 380.516875 77.417936 \r\n\" style=\"fill:none;stroke:#ffffff;stroke-linecap:square;stroke-width:0.8;\"/>\r\n     </g>\r\n     <g id=\"line2d_26\">\r\n      <g>\r\n       <use style=\"fill:#555555;stroke:#555555;stroke-width:0.8;\" x=\"45.716875\" xlink:href=\"#mf62f100e14\" y=\"77.417936\"/>\r\n      </g>\r\n     </g>\r\n     <g id=\"text_14\">\r\n      <!-- 0.6 -->\r\n      <g style=\"fill:#555555;\" transform=\"translate(22.81375 81.217155)scale(0.1 -0.1)\">\r\n       <use xlink:href=\"#DejaVuSans-48\"/>\r\n       <use x=\"63.623047\" xlink:href=\"#DejaVuSans-46\"/>\r\n       <use x=\"95.410156\" xlink:href=\"#DejaVuSans-54\"/>\r\n      </g>\r\n     </g>\r\n    </g>\r\n    <g id=\"ytick_8\">\r\n     <g id=\"line2d_27\">\r\n      <path clip-path=\"url(#p0e6c443105)\" d=\"M 45.716875 51.700491 \r\nL 380.516875 51.700491 \r\n\" style=\"fill:none;stroke:#ffffff;stroke-linecap:square;stroke-width:0.8;\"/>\r\n     </g>\r\n     <g id=\"line2d_28\">\r\n      <g>\r\n       <use style=\"fill:#555555;stroke:#555555;stroke-width:0.8;\" x=\"45.716875\" xlink:href=\"#mf62f100e14\" y=\"51.700491\"/>\r\n      </g>\r\n     </g>\r\n     <g id=\"text_15\">\r\n      <!-- 0.7 -->\r\n      <defs>\r\n       <path d=\"M 8.203125 72.90625 \r\nL 55.078125 72.90625 \r\nL 55.078125 68.703125 \r\nL 28.609375 0 \r\nL 18.3125 0 \r\nL 43.21875 64.59375 \r\nL 8.203125 64.59375 \r\nz\r\n\" id=\"DejaVuSans-55\"/>\r\n      </defs>\r\n      <g style=\"fill:#555555;\" transform=\"translate(22.81375 55.49971)scale(0.1 -0.1)\">\r\n       <use xlink:href=\"#DejaVuSans-48\"/>\r\n       <use x=\"63.623047\" xlink:href=\"#DejaVuSans-46\"/>\r\n       <use x=\"95.410156\" xlink:href=\"#DejaVuSans-55\"/>\r\n      </g>\r\n     </g>\r\n    </g>\r\n    <g id=\"ytick_9\">\r\n     <g id=\"line2d_29\">\r\n      <path clip-path=\"url(#p0e6c443105)\" d=\"M 45.716875 25.983045 \r\nL 380.516875 25.983045 \r\n\" style=\"fill:none;stroke:#ffffff;stroke-linecap:square;stroke-width:0.8;\"/>\r\n     </g>\r\n     <g id=\"line2d_30\">\r\n      <g>\r\n       <use style=\"fill:#555555;stroke:#555555;stroke-width:0.8;\" x=\"45.716875\" xlink:href=\"#mf62f100e14\" y=\"25.983045\"/>\r\n      </g>\r\n     </g>\r\n     <g id=\"text_16\">\r\n      <!-- 0.8 -->\r\n      <g style=\"fill:#555555;\" transform=\"translate(22.81375 29.782264)scale(0.1 -0.1)\">\r\n       <use xlink:href=\"#DejaVuSans-48\"/>\r\n       <use x=\"63.623047\" xlink:href=\"#DejaVuSans-46\"/>\r\n       <use x=\"95.410156\" xlink:href=\"#DejaVuSans-56\"/>\r\n      </g>\r\n     </g>\r\n    </g>\r\n    <g id=\"text_17\">\r\n     <!-- Error -->\r\n     <defs>\r\n      <path d=\"M 9.8125 72.90625 \r\nL 55.90625 72.90625 \r\nL 55.90625 64.59375 \r\nL 19.671875 64.59375 \r\nL 19.671875 43.015625 \r\nL 54.390625 43.015625 \r\nL 54.390625 34.71875 \r\nL 19.671875 34.71875 \r\nL 19.671875 8.296875 \r\nL 56.78125 8.296875 \r\nL 56.78125 0 \r\nL 9.8125 0 \r\nz\r\n\" id=\"DejaVuSans-69\"/>\r\n     </defs>\r\n     <g style=\"fill:#555555;\" transform=\"translate(16.318125 147.721125)rotate(-90)scale(0.12 -0.12)\">\r\n      <use xlink:href=\"#DejaVuSans-69\"/>\r\n      <use x=\"63.183594\" xlink:href=\"#DejaVuSans-114\"/>\r\n      <use x=\"104.28125\" xlink:href=\"#DejaVuSans-114\"/>\r\n      <use x=\"145.363281\" xlink:href=\"#DejaVuSans-111\"/>\r\n      <use x=\"206.544922\" xlink:href=\"#DejaVuSans-114\"/>\r\n     </g>\r\n    </g>\r\n   </g>\r\n   <g id=\"line2d_31\">\r\n    <path clip-path=\"url(#p0e6c443105)\" d=\"M 60.935057 34.025386 \r\nL 64.072826 224.206157 \r\nL 67.210596 224.649609 \r\nL 70.348365 225.066684 \r\nL 73.486135 225.458964 \r\nL 76.623904 225.827936 \r\nL 79.761674 226.174998 \r\nL 82.899443 226.501463 \r\nL 86.037212 226.808563 \r\nL 89.174982 227.097457 \r\nL 92.312751 227.369235 \r\nL 95.450521 227.624918 \r\nL 98.58829 227.865468 \r\nL 101.72606 228.091789 \r\nL 104.863829 228.304729 \r\nL 108.001599 228.505086 \r\nL 111.139368 228.693611 \r\nL 114.277137 228.871007 \r\nL 117.414907 229.037937 \r\nL 120.552676 229.195024 \r\nL 123.690446 229.342853 \r\nL 126.828215 229.481973 \r\nL 129.965985 229.612903 \r\nL 133.103754 229.736128 \r\nL 136.241524 229.852105 \r\nL 139.379293 229.961264 \r\nL 142.517062 230.064009 \r\nL 145.654832 230.16072 \r\nL 148.792601 230.251753 \r\nL 151.930371 230.337445 \r\nL 155.06814 230.418112 \r\nL 158.20591 230.49405 \r\nL 161.343679 230.565539 \r\nL 164.481449 230.632841 \r\nL 167.619218 230.696203 \r\nL 170.756987 230.755859 \r\nL 173.894757 230.812025 \r\nL 177.032526 230.864908 \r\nL 180.170296 230.914701 \r\nL 183.308065 230.961585 \r\nL 186.445835 231.005733 \r\nL 189.583604 231.047304 \r\nL 192.721374 231.086451 \r\nL 195.859143 231.123315 \r\nL 198.996912 231.158031 \r\nL 202.134682 231.190724 \r\nL 205.272451 231.221513 \r\nL 208.410221 231.25051 \r\nL 211.54799 231.27782 \r\nL 214.68576 231.303542 \r\nL 217.823529 231.327768 \r\nL 220.961299 231.350586 \r\nL 224.099068 231.372078 \r\nL 227.236838 231.392323 \r\nL 230.374607 231.411392 \r\nL 233.512376 231.429354 \r\nL 236.650146 231.446275 \r\nL 239.787915 231.462215 \r\nL 242.925685 231.47723 \r\nL 246.063454 231.491376 \r\nL 249.201224 231.504702 \r\nL 252.338993 231.517256 \r\nL 255.476763 231.529084 \r\nL 258.614532 231.540228 \r\nL 261.752301 231.550727 \r\nL 264.890071 231.560618 \r\nL 268.02784 231.569938 \r\nL 271.16561 231.57872 \r\nL 274.303379 231.586994 \r\nL 277.441149 231.59479 \r\nL 280.578918 231.602136 \r\nL 283.716688 231.609059 \r\nL 286.854457 231.615582 \r\nL 289.992226 231.621728 \r\nL 293.129996 231.62752 \r\nL 296.267765 231.632979 \r\nL 299.405535 231.638122 \r\nL 302.543304 231.64297 \r\nL 305.681074 231.647538 \r\nL 308.818843 231.651843 \r\nL 311.956613 231.655901 \r\nL 315.094382 231.659725 \r\nL 318.232151 231.663329 \r\nL 321.369921 231.666725 \r\nL 324.50769 231.669927 \r\nL 327.64546 231.672944 \r\nL 330.783229 231.675788 \r\nL 333.920999 231.678468 \r\nL 337.058768 231.680995 \r\nL 340.196538 231.683376 \r\nL 343.334307 231.685621 \r\nL 346.472076 231.687737 \r\nL 349.609846 231.689731 \r\nL 352.747615 231.691612 \r\nL 355.885385 231.693384 \r\nL 359.023154 231.695054 \r\nL 362.160924 231.696629 \r\nL 365.298693 231.698114 \r\n\" style=\"fill:none;stroke:#e24a33;stroke-linecap:square;stroke-width:1.5;\"/>\r\n   </g>\r\n   <g id=\"patch_3\">\r\n    <path d=\"M 45.716875 241.58175 \r\nL 45.716875 24.14175 \r\n\" style=\"fill:none;stroke:#ffffff;stroke-linecap:square;stroke-linejoin:miter;\"/>\r\n   </g>\r\n   <g id=\"patch_4\">\r\n    <path d=\"M 380.516875 241.58175 \r\nL 380.516875 24.14175 \r\n\" style=\"fill:none;stroke:#ffffff;stroke-linecap:square;stroke-linejoin:miter;\"/>\r\n   </g>\r\n   <g id=\"patch_5\">\r\n    <path d=\"M 45.716875 241.58175 \r\nL 380.516875 241.58175 \r\n\" style=\"fill:none;stroke:#ffffff;stroke-linecap:square;stroke-linejoin:miter;\"/>\r\n   </g>\r\n   <g id=\"patch_6\">\r\n    <path d=\"M 45.716875 24.14175 \r\nL 380.516875 24.14175 \r\n\" style=\"fill:none;stroke:#ffffff;stroke-linecap:square;stroke-linejoin:miter;\"/>\r\n   </g>\r\n   <g id=\"text_18\">\r\n    <!-- Error over Time -->\r\n    <defs>\r\n     <path id=\"DejaVuSans-32\"/>\r\n     <path d=\"M 2.984375 54.6875 \r\nL 12.5 54.6875 \r\nL 29.59375 8.796875 \r\nL 46.6875 54.6875 \r\nL 56.203125 54.6875 \r\nL 35.6875 0 \r\nL 23.484375 0 \r\nz\r\n\" id=\"DejaVuSans-118\"/>\r\n     <path d=\"M -0.296875 72.90625 \r\nL 61.375 72.90625 \r\nL 61.375 64.59375 \r\nL 35.5 64.59375 \r\nL 35.5 0 \r\nL 25.59375 0 \r\nL 25.59375 64.59375 \r\nL -0.296875 64.59375 \r\nz\r\n\" id=\"DejaVuSans-84\"/>\r\n     <path d=\"M 52 44.1875 \r\nQ 55.375 50.25 60.0625 53.125 \r\nQ 64.75 56 71.09375 56 \r\nQ 79.640625 56 84.28125 50.015625 \r\nQ 88.921875 44.046875 88.921875 33.015625 \r\nL 88.921875 0 \r\nL 79.890625 0 \r\nL 79.890625 32.71875 \r\nQ 79.890625 40.578125 77.09375 44.375 \r\nQ 74.3125 48.1875 68.609375 48.1875 \r\nQ 61.625 48.1875 57.5625 43.546875 \r\nQ 53.515625 38.921875 53.515625 30.90625 \r\nL 53.515625 0 \r\nL 44.484375 0 \r\nL 44.484375 32.71875 \r\nQ 44.484375 40.625 41.703125 44.40625 \r\nQ 38.921875 48.1875 33.109375 48.1875 \r\nQ 26.21875 48.1875 22.15625 43.53125 \r\nQ 18.109375 38.875 18.109375 30.90625 \r\nL 18.109375 0 \r\nL 9.078125 0 \r\nL 9.078125 54.6875 \r\nL 18.109375 54.6875 \r\nL 18.109375 46.1875 \r\nQ 21.1875 51.21875 25.484375 53.609375 \r\nQ 29.78125 56 35.6875 56 \r\nQ 41.65625 56 45.828125 52.96875 \r\nQ 50 49.953125 52 44.1875 \r\nz\r\n\" id=\"DejaVuSans-109\"/>\r\n    </defs>\r\n    <g transform=\"translate(156.814 18.14175)scale(0.144 -0.144)\">\r\n     <use xlink:href=\"#DejaVuSans-69\"/>\r\n     <use x=\"63.183594\" xlink:href=\"#DejaVuSans-114\"/>\r\n     <use x=\"104.28125\" xlink:href=\"#DejaVuSans-114\"/>\r\n     <use x=\"145.363281\" xlink:href=\"#DejaVuSans-111\"/>\r\n     <use x=\"206.544922\" xlink:href=\"#DejaVuSans-114\"/>\r\n     <use x=\"247.658203\" xlink:href=\"#DejaVuSans-32\"/>\r\n     <use x=\"279.445312\" xlink:href=\"#DejaVuSans-111\"/>\r\n     <use x=\"340.626953\" xlink:href=\"#DejaVuSans-118\"/>\r\n     <use x=\"399.806641\" xlink:href=\"#DejaVuSans-101\"/>\r\n     <use x=\"461.330078\" xlink:href=\"#DejaVuSans-114\"/>\r\n     <use x=\"502.443359\" xlink:href=\"#DejaVuSans-32\"/>\r\n     <use x=\"534.230469\" xlink:href=\"#DejaVuSans-84\"/>\r\n     <use x=\"595.267578\" xlink:href=\"#DejaVuSans-105\"/>\r\n     <use x=\"623.050781\" xlink:href=\"#DejaVuSans-109\"/>\r\n     <use x=\"720.462891\" xlink:href=\"#DejaVuSans-101\"/>\r\n    </g>\r\n   </g>\r\n  </g>\r\n </g>\r\n <defs>\r\n  <clipPath id=\"p0e6c443105\">\r\n   <rect height=\"217.44\" width=\"334.8\" x=\"45.716875\" y=\"24.14175\"/>\r\n  </clipPath>\r\n </defs>\r\n</svg>\r\n",
      "image/png": "[encoded data removed]"
     },
     "metadata": {}
    }
   ],
   "source": [
    "# Plotting error as iterations\n",
    "plt.plot(err)\n",
    "plt.title('Error over Time')\n",
    "plt.xlabel('Iterations')\n",
    "plt.ylabel('Error')"
   ]
  },
  {
   "source": [
    "# Problem 4"
   ],
   "cell_type": "markdown",
   "metadata": {}
  },
  {
   "cell_type": "code",
   "execution_count": 284,
   "metadata": {
    "tags": []
   },
   "outputs": [
    {
     "output_type": "stream",
     "name": "stdout",
     "text": [
      "Step: 1000 | Error: 0.0009027922738668025\n",
      "Step: 2000 | Error: 0.00046056497189428874\n",
      "Step: 3000 | Error: 0.0003132177192582796\n",
      "Step: 4000 | Error: 0.0002380599376708304\n",
      "Step: 5000 | Error: 0.0001922261036767847\n",
      "Step: 6000 | Error: 0.00016137352462956405\n",
      "Step: 7000 | Error: 0.00013920296818435487\n",
      "Step: 8000 | Error: 0.00012249543891768833\n",
      "Step: 9000 | Error: 0.00010944309902551278\n"
     ]
    }
   ],
   "source": [
    "# Initialize random starting point and learning rate\n",
    "w = np.random.rand(Xtrain.shape[1])\n",
    "s_norm = np.linalg.norm(Xtrain,2)**2\n",
    "lam = 10/s_norm #found by checking results via input\n",
    "\n",
    "# defining functions as parameters\n",
    "func = L\n",
    "grad = grad_L\n",
    "\n",
    "# Pass to gradient solver (either stopping at n steps or going until tolerance)\n",
    "steps = 200\n",
    "step_flag = 0\n",
    "w_trained, err, i = gradientDescentSolver(w, func, grad, lam, steps, step_flag, rho, c, 0)"
   ]
  },
  {
   "cell_type": "code",
   "execution_count": 285,
   "metadata": {},
   "outputs": [
    {
     "output_type": "execute_result",
     "data": {
      "text/plain": [
       "array([-0.12152323, -0.07743442, -0.12128494,  0.67719567,  0.47514765,\n",
       "        0.22426866,  1.01986852,  0.48666445,  0.10341829,  0.13564389,\n",
       "       -0.05754433, -0.20538   , -0.28635861,  0.24547673,  0.41082321,\n",
       "        0.53945798,  0.54091938, -0.07565782,  0.10782846,  0.24684056,\n",
       "        0.20573028,  0.27305528,  0.6222168 ,  0.60279888, -1.27140862,\n",
       "        0.00219991, -1.86557668,  0.18126886, -0.08153031,  0.15457658,\n",
       "        0.23997635,  0.47148904, -0.12989843,  0.04906652, -0.30534563,\n",
       "        0.5241535 , -0.37362651,  0.1378691 , -0.25497248, -0.15958472,\n",
       "       -0.26440828, -0.7791994 , -0.43962487, -0.55961741, -0.40973756,\n",
       "       -0.88087768,  0.27147386, -0.6015913 , -0.31472979, -0.0677212 ,\n",
       "        0.17662656,  0.80043204,  1.46095174, -0.03693715,  0.55506246,\n",
       "        0.15397878,  0.23794897])"
      ]
     },
     "metadata": {},
     "execution_count": 285
    }
   ],
   "source": [
    "w_trained"
   ]
  },
  {
   "cell_type": "code",
   "execution_count": 286,
   "metadata": {},
   "outputs": [
    {
     "output_type": "stream",
     "name": "stdout",
     "text": [
      "Accuracy: 0.9434 | Misclassification Rate: 0.0566\nAccuracy(training): 0.9491 | Misclassification Rate(training): 0.0509\n"
     ]
    }
   ],
   "source": [
    "# Quick accuracy calculator for this problem\n",
    "def acc(y_pred, y_true):\n",
    "    m = y_pred - y_true\n",
    "    m = np.sum(m == 0)\n",
    "    return np.sum(m)/y_true.shape[0]\n",
    "\n",
    "# Predicting labels with classifier w\n",
    "y_pred = sig(Xtest@w_trained)\n",
    "y_pred_train = sig(Xtrain@w_trained)\n",
    "\n",
    "# if simga(w^Tx_i) > 0.5, then classify it as spam (1).\n",
    "for i in range(len(y_pred)):\n",
    "    if y_pred[i] > 0.5:\n",
    "        y_pred[i] = 1\n",
    "    else:\n",
    "        y_pred[i] = -1\n",
    "for i in range(len(y_pred_train)):\n",
    "    if y_pred_train[i] > 0.5:\n",
    "        y_pred_train[i] = 1\n",
    "    else:\n",
    "        y_pred_train[i] = -1\n",
    "\n",
    "# Compute training and testing accuracy\n",
    "accuracy = acc(y_pred, ytest)\n",
    "accuracy_train = acc(y_pred_train, ytrain)\n",
    "\n",
    "# Computer Classification error\n",
    "misclassifyrate = 1 - accuracy\n",
    "misclassifyrate_train = 1 - accuracy_train\n",
    "\n",
    "print(f'Accuracy: {accuracy:0.4f} | Misclassification Rate: {misclassifyrate:0.4f}')\n",
    "print(f'Accuracy(training): {accuracy_train:0.4f} | Misclassification Rate(training): {misclassifyrate_train:0.4f}')"
   ]
  },
  {
   "cell_type": "code",
   "execution_count": 288,
   "metadata": {},
   "outputs": [
    {
     "output_type": "execute_result",
     "data": {
      "text/plain": [
       "array([52,  6, 51,  3, 22, 23, 54, 16, 15, 35], dtype=int64)"
      ]
     },
     "metadata": {},
     "execution_count": 288
    }
   ],
   "source": [
    "# The features that would be most important would be the ones with the most activation (highest valued weights). We can find this by doing an argsort.\n",
    "\n",
    "# Top 10 features\n",
    "n = 10\n",
    "top_n_features = w_trained.argsort()[::-1][:n]\n",
    "top_n_features\n",
    "\n",
    "# Check the features that correspond to the given columns!"
   ]
  }
 ]
}